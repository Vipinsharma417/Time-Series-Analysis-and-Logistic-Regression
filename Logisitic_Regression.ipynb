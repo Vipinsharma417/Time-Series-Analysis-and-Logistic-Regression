{
 "cells": [
  {
   "cell_type": "code",
   "execution_count": 1,
   "id": "4ca0b45a",
   "metadata": {},
   "outputs": [],
   "source": [
    "#Import the packages\n",
    "import numpy as np\n",
    "import pandas as pd\n",
    "import matplotlib.pyplot as plt\n",
    "import statsmodels.api as sm\n",
    "import seaborn as sns\n",
    "from sklearn.preprocessing import StandardScaler\n",
    "from sklearn.linear_model import LogisticRegression\n",
    "from sklearn.metrics import balanced_accuracy_score, classification_report, confusion_matrix, ConfusionMatrixDisplay, accuracy_score\n",
    "from sklearn.model_selection import train_test_split"
   ]
  },
  {
   "cell_type": "code",
   "execution_count": 2,
   "id": "15a369a4",
   "metadata": {},
   "outputs": [],
   "source": [
    "#Import the dataset\n",
    "cardiac_data = pd.read_csv('cardiac.csv')"
   ]
  },
  {
   "cell_type": "code",
   "execution_count": 3,
   "id": "c7bc0d0c",
   "metadata": {},
   "outputs": [
    {
     "data": {
      "text/html": [
       "<div>\n",
       "<style scoped>\n",
       "    .dataframe tbody tr th:only-of-type {\n",
       "        vertical-align: middle;\n",
       "    }\n",
       "\n",
       "    .dataframe tbody tr th {\n",
       "        vertical-align: top;\n",
       "    }\n",
       "\n",
       "    .dataframe thead th {\n",
       "        text-align: right;\n",
       "    }\n",
       "</style>\n",
       "<table border=\"1\" class=\"dataframe\">\n",
       "  <thead>\n",
       "    <tr style=\"text-align: right;\">\n",
       "      <th></th>\n",
       "      <th>caseno</th>\n",
       "      <th>age</th>\n",
       "      <th>weight</th>\n",
       "      <th>gender</th>\n",
       "      <th>fitness_score</th>\n",
       "      <th>cardiac_condition</th>\n",
       "    </tr>\n",
       "  </thead>\n",
       "  <tbody>\n",
       "    <tr>\n",
       "      <th>0</th>\n",
       "      <td>1</td>\n",
       "      <td>37</td>\n",
       "      <td>70.47</td>\n",
       "      <td>Male</td>\n",
       "      <td>55.79</td>\n",
       "      <td>Absent</td>\n",
       "    </tr>\n",
       "    <tr>\n",
       "      <th>1</th>\n",
       "      <td>2</td>\n",
       "      <td>73</td>\n",
       "      <td>50.34</td>\n",
       "      <td>Female</td>\n",
       "      <td>35.00</td>\n",
       "      <td>Absent</td>\n",
       "    </tr>\n",
       "    <tr>\n",
       "      <th>2</th>\n",
       "      <td>3</td>\n",
       "      <td>46</td>\n",
       "      <td>87.65</td>\n",
       "      <td>Male</td>\n",
       "      <td>42.93</td>\n",
       "      <td>Present</td>\n",
       "    </tr>\n",
       "    <tr>\n",
       "      <th>3</th>\n",
       "      <td>4</td>\n",
       "      <td>36</td>\n",
       "      <td>89.80</td>\n",
       "      <td>Female</td>\n",
       "      <td>28.30</td>\n",
       "      <td>Present</td>\n",
       "    </tr>\n",
       "    <tr>\n",
       "      <th>4</th>\n",
       "      <td>5</td>\n",
       "      <td>34</td>\n",
       "      <td>103.02</td>\n",
       "      <td>Male</td>\n",
       "      <td>40.56</td>\n",
       "      <td>Absent</td>\n",
       "    </tr>\n",
       "    <tr>\n",
       "      <th>...</th>\n",
       "      <td>...</td>\n",
       "      <td>...</td>\n",
       "      <td>...</td>\n",
       "      <td>...</td>\n",
       "      <td>...</td>\n",
       "      <td>...</td>\n",
       "    </tr>\n",
       "    <tr>\n",
       "      <th>95</th>\n",
       "      <td>96</td>\n",
       "      <td>42</td>\n",
       "      <td>111.98</td>\n",
       "      <td>Male</td>\n",
       "      <td>33.73</td>\n",
       "      <td>Present</td>\n",
       "    </tr>\n",
       "    <tr>\n",
       "      <th>96</th>\n",
       "      <td>97</td>\n",
       "      <td>43</td>\n",
       "      <td>88.07</td>\n",
       "      <td>Male</td>\n",
       "      <td>49.22</td>\n",
       "      <td>Present</td>\n",
       "    </tr>\n",
       "    <tr>\n",
       "      <th>97</th>\n",
       "      <td>98</td>\n",
       "      <td>45</td>\n",
       "      <td>94.07</td>\n",
       "      <td>Male</td>\n",
       "      <td>41.97</td>\n",
       "      <td>Present</td>\n",
       "    </tr>\n",
       "    <tr>\n",
       "      <th>98</th>\n",
       "      <td>99</td>\n",
       "      <td>58</td>\n",
       "      <td>97.46</td>\n",
       "      <td>Male</td>\n",
       "      <td>35.20</td>\n",
       "      <td>Present</td>\n",
       "    </tr>\n",
       "    <tr>\n",
       "      <th>99</th>\n",
       "      <td>100</td>\n",
       "      <td>61</td>\n",
       "      <td>93.76</td>\n",
       "      <td>Male</td>\n",
       "      <td>32.00</td>\n",
       "      <td>Present</td>\n",
       "    </tr>\n",
       "  </tbody>\n",
       "</table>\n",
       "<p>100 rows × 6 columns</p>\n",
       "</div>"
      ],
      "text/plain": [
       "    caseno  age  weight  gender  fitness_score cardiac_condition\n",
       "0        1   37   70.47    Male          55.79            Absent\n",
       "1        2   73   50.34  Female          35.00            Absent\n",
       "2        3   46   87.65    Male          42.93           Present\n",
       "3        4   36   89.80  Female          28.30           Present\n",
       "4        5   34  103.02    Male          40.56            Absent\n",
       "..     ...  ...     ...     ...            ...               ...\n",
       "95      96   42  111.98    Male          33.73           Present\n",
       "96      97   43   88.07    Male          49.22           Present\n",
       "97      98   45   94.07    Male          41.97           Present\n",
       "98      99   58   97.46    Male          35.20           Present\n",
       "99     100   61   93.76    Male          32.00           Present\n",
       "\n",
       "[100 rows x 6 columns]"
      ]
     },
     "execution_count": 3,
     "metadata": {},
     "output_type": "execute_result"
    }
   ],
   "source": [
    "cardiac_data"
   ]
  },
  {
   "cell_type": "markdown",
   "id": "001a4f4b",
   "metadata": {},
   "source": [
    "## EDA"
   ]
  },
  {
   "cell_type": "code",
   "execution_count": 4,
   "id": "8e09e704",
   "metadata": {},
   "outputs": [],
   "source": [
    "#Replace the Column gender and Cardiac into numerical value 0 and 1\n",
    "cardiac_data['gender'] = cardiac_data['gender'].replace({'Male': 1, 'Female': 0})\n",
    "cardiac_data['cardiac_condition'] = cardiac_data['cardiac_condition'].replace({'Absent': 0, 'Present': 1})"
   ]
  },
  {
   "cell_type": "code",
   "execution_count": 5,
   "id": "1d4c010c",
   "metadata": {},
   "outputs": [],
   "source": [
    "#Drop the caseno column this is an identifier this shows the number of rows and putting no effect on the predictive value"
   ]
  },
  {
   "cell_type": "code",
   "execution_count": 6,
   "id": "d23d3b3a",
   "metadata": {},
   "outputs": [],
   "source": [
    "cardiac_data = cardiac_data.drop(\"caseno\", axis=1)"
   ]
  },
  {
   "cell_type": "code",
   "execution_count": 7,
   "id": "2c34d01f",
   "metadata": {},
   "outputs": [
    {
     "data": {
      "text/html": [
       "<div>\n",
       "<style scoped>\n",
       "    .dataframe tbody tr th:only-of-type {\n",
       "        vertical-align: middle;\n",
       "    }\n",
       "\n",
       "    .dataframe tbody tr th {\n",
       "        vertical-align: top;\n",
       "    }\n",
       "\n",
       "    .dataframe thead th {\n",
       "        text-align: right;\n",
       "    }\n",
       "</style>\n",
       "<table border=\"1\" class=\"dataframe\">\n",
       "  <thead>\n",
       "    <tr style=\"text-align: right;\">\n",
       "      <th></th>\n",
       "      <th>age</th>\n",
       "      <th>weight</th>\n",
       "      <th>gender</th>\n",
       "      <th>fitness_score</th>\n",
       "      <th>cardiac_condition</th>\n",
       "    </tr>\n",
       "  </thead>\n",
       "  <tbody>\n",
       "    <tr>\n",
       "      <th>0</th>\n",
       "      <td>37</td>\n",
       "      <td>70.47</td>\n",
       "      <td>1</td>\n",
       "      <td>55.79</td>\n",
       "      <td>0</td>\n",
       "    </tr>\n",
       "    <tr>\n",
       "      <th>1</th>\n",
       "      <td>73</td>\n",
       "      <td>50.34</td>\n",
       "      <td>0</td>\n",
       "      <td>35.00</td>\n",
       "      <td>0</td>\n",
       "    </tr>\n",
       "    <tr>\n",
       "      <th>2</th>\n",
       "      <td>46</td>\n",
       "      <td>87.65</td>\n",
       "      <td>1</td>\n",
       "      <td>42.93</td>\n",
       "      <td>1</td>\n",
       "    </tr>\n",
       "    <tr>\n",
       "      <th>3</th>\n",
       "      <td>36</td>\n",
       "      <td>89.80</td>\n",
       "      <td>0</td>\n",
       "      <td>28.30</td>\n",
       "      <td>1</td>\n",
       "    </tr>\n",
       "    <tr>\n",
       "      <th>4</th>\n",
       "      <td>34</td>\n",
       "      <td>103.02</td>\n",
       "      <td>1</td>\n",
       "      <td>40.56</td>\n",
       "      <td>0</td>\n",
       "    </tr>\n",
       "    <tr>\n",
       "      <th>...</th>\n",
       "      <td>...</td>\n",
       "      <td>...</td>\n",
       "      <td>...</td>\n",
       "      <td>...</td>\n",
       "      <td>...</td>\n",
       "    </tr>\n",
       "    <tr>\n",
       "      <th>95</th>\n",
       "      <td>42</td>\n",
       "      <td>111.98</td>\n",
       "      <td>1</td>\n",
       "      <td>33.73</td>\n",
       "      <td>1</td>\n",
       "    </tr>\n",
       "    <tr>\n",
       "      <th>96</th>\n",
       "      <td>43</td>\n",
       "      <td>88.07</td>\n",
       "      <td>1</td>\n",
       "      <td>49.22</td>\n",
       "      <td>1</td>\n",
       "    </tr>\n",
       "    <tr>\n",
       "      <th>97</th>\n",
       "      <td>45</td>\n",
       "      <td>94.07</td>\n",
       "      <td>1</td>\n",
       "      <td>41.97</td>\n",
       "      <td>1</td>\n",
       "    </tr>\n",
       "    <tr>\n",
       "      <th>98</th>\n",
       "      <td>58</td>\n",
       "      <td>97.46</td>\n",
       "      <td>1</td>\n",
       "      <td>35.20</td>\n",
       "      <td>1</td>\n",
       "    </tr>\n",
       "    <tr>\n",
       "      <th>99</th>\n",
       "      <td>61</td>\n",
       "      <td>93.76</td>\n",
       "      <td>1</td>\n",
       "      <td>32.00</td>\n",
       "      <td>1</td>\n",
       "    </tr>\n",
       "  </tbody>\n",
       "</table>\n",
       "<p>100 rows × 5 columns</p>\n",
       "</div>"
      ],
      "text/plain": [
       "    age  weight  gender  fitness_score  cardiac_condition\n",
       "0    37   70.47       1          55.79                  0\n",
       "1    73   50.34       0          35.00                  0\n",
       "2    46   87.65       1          42.93                  1\n",
       "3    36   89.80       0          28.30                  1\n",
       "4    34  103.02       1          40.56                  0\n",
       "..  ...     ...     ...            ...                ...\n",
       "95   42  111.98       1          33.73                  1\n",
       "96   43   88.07       1          49.22                  1\n",
       "97   45   94.07       1          41.97                  1\n",
       "98   58   97.46       1          35.20                  1\n",
       "99   61   93.76       1          32.00                  1\n",
       "\n",
       "[100 rows x 5 columns]"
      ]
     },
     "execution_count": 7,
     "metadata": {},
     "output_type": "execute_result"
    }
   ],
   "source": [
    "cardiac_data"
   ]
  },
  {
   "cell_type": "code",
   "execution_count": 8,
   "id": "064360ea",
   "metadata": {
    "scrolled": true
   },
   "outputs": [
    {
     "data": {
      "text/html": [
       "<div>\n",
       "<style scoped>\n",
       "    .dataframe tbody tr th:only-of-type {\n",
       "        vertical-align: middle;\n",
       "    }\n",
       "\n",
       "    .dataframe tbody tr th {\n",
       "        vertical-align: top;\n",
       "    }\n",
       "\n",
       "    .dataframe thead th {\n",
       "        text-align: right;\n",
       "    }\n",
       "</style>\n",
       "<table border=\"1\" class=\"dataframe\">\n",
       "  <thead>\n",
       "    <tr style=\"text-align: right;\">\n",
       "      <th></th>\n",
       "      <th>count</th>\n",
       "      <th>mean</th>\n",
       "      <th>std</th>\n",
       "      <th>min</th>\n",
       "      <th>25%</th>\n",
       "      <th>50%</th>\n",
       "      <th>75%</th>\n",
       "      <th>max</th>\n",
       "    </tr>\n",
       "  </thead>\n",
       "  <tbody>\n",
       "    <tr>\n",
       "      <th>age</th>\n",
       "      <td>100.0</td>\n",
       "      <td>41.1000</td>\n",
       "      <td>9.142530</td>\n",
       "      <td>30.00</td>\n",
       "      <td>34.0000</td>\n",
       "      <td>39.00</td>\n",
       "      <td>45.2500</td>\n",
       "      <td>74.00</td>\n",
       "    </tr>\n",
       "    <tr>\n",
       "      <th>weight</th>\n",
       "      <td>100.0</td>\n",
       "      <td>79.6603</td>\n",
       "      <td>15.089842</td>\n",
       "      <td>50.00</td>\n",
       "      <td>69.7325</td>\n",
       "      <td>79.24</td>\n",
       "      <td>89.9125</td>\n",
       "      <td>115.42</td>\n",
       "    </tr>\n",
       "    <tr>\n",
       "      <th>gender</th>\n",
       "      <td>100.0</td>\n",
       "      <td>0.6300</td>\n",
       "      <td>0.485237</td>\n",
       "      <td>0.00</td>\n",
       "      <td>0.0000</td>\n",
       "      <td>1.00</td>\n",
       "      <td>1.0000</td>\n",
       "      <td>1.00</td>\n",
       "    </tr>\n",
       "    <tr>\n",
       "      <th>fitness_score</th>\n",
       "      <td>100.0</td>\n",
       "      <td>43.6298</td>\n",
       "      <td>8.571306</td>\n",
       "      <td>27.35</td>\n",
       "      <td>36.5950</td>\n",
       "      <td>42.73</td>\n",
       "      <td>49.2650</td>\n",
       "      <td>62.50</td>\n",
       "    </tr>\n",
       "    <tr>\n",
       "      <th>cardiac_condition</th>\n",
       "      <td>100.0</td>\n",
       "      <td>0.3500</td>\n",
       "      <td>0.479372</td>\n",
       "      <td>0.00</td>\n",
       "      <td>0.0000</td>\n",
       "      <td>0.00</td>\n",
       "      <td>1.0000</td>\n",
       "      <td>1.00</td>\n",
       "    </tr>\n",
       "  </tbody>\n",
       "</table>\n",
       "</div>"
      ],
      "text/plain": [
       "                   count     mean        std    min      25%    50%      75%  \\\n",
       "age                100.0  41.1000   9.142530  30.00  34.0000  39.00  45.2500   \n",
       "weight             100.0  79.6603  15.089842  50.00  69.7325  79.24  89.9125   \n",
       "gender             100.0   0.6300   0.485237   0.00   0.0000   1.00   1.0000   \n",
       "fitness_score      100.0  43.6298   8.571306  27.35  36.5950  42.73  49.2650   \n",
       "cardiac_condition  100.0   0.3500   0.479372   0.00   0.0000   0.00   1.0000   \n",
       "\n",
       "                      max  \n",
       "age                 74.00  \n",
       "weight             115.42  \n",
       "gender               1.00  \n",
       "fitness_score       62.50  \n",
       "cardiac_condition    1.00  "
      ]
     },
     "execution_count": 8,
     "metadata": {},
     "output_type": "execute_result"
    }
   ],
   "source": [
    "#Describe the data \n",
    "cardiac_data.describe().T"
   ]
  },
  {
   "cell_type": "code",
   "execution_count": 9,
   "id": "036fcee2",
   "metadata": {},
   "outputs": [
    {
     "data": {
      "image/png": "[encoded data removed]",
      "text/plain": [
       "<Figure size 640x480 with 2 Axes>"
      ]
     },
     "metadata": {},
     "output_type": "display_data"
    }
   ],
   "source": [
    "#Check the correlation between the column\n",
    "corr_matrix = cardiac_data.corr()\n",
    "sns.heatmap(corr_matrix, annot=True, cmap='coolwarm', fmt=\".2f\")\n",
    "plt.title('Correlation Matrix')\n",
    "plt.show()\n"
   ]
  },
  {
   "cell_type": "code",
   "execution_count": 10,
   "id": "28565adf",
   "metadata": {},
   "outputs": [
    {
     "data": {
      "image/png": "[encoded data removed]",
      "text/plain": [
       "<Figure size 1000x600 with 1 Axes>"
      ]
     },
     "metadata": {},
     "output_type": "display_data"
    }
   ],
   "source": [
    "# Box plot to check the outliers\n",
    "plt.figure(figsize=(10, 6))\n",
    "sns.boxplot(cardiac_data)\n",
    "plt.title('Box Plot for all the columns')\n",
    "plt.show()"
   ]
  },
  {
   "cell_type": "code",
   "execution_count": 11,
   "id": "826e31ac",
   "metadata": {},
   "outputs": [],
   "source": [
    "# Divide the data into independent and dependent variables\n",
    "x = cardiac_data.iloc[:,:-1].values\n",
    "y = cardiac_data.iloc[:,-1].values"
   ]
  },
  {
   "cell_type": "code",
   "execution_count": 12,
   "id": "45e33499",
   "metadata": {},
   "outputs": [],
   "source": [
    "# Set the random seed based on student number\n",
    "student_number = 22207406\n",
    "np.random.seed(student_number)"
   ]
  },
  {
   "cell_type": "code",
   "execution_count": 13,
   "id": "0cfb434b",
   "metadata": {},
   "outputs": [],
   "source": [
    "#Splitting the data into Train and test\n",
    "x_train, x_test, y_train, y_test = train_test_split(x,y, test_size=0.3, random_state=student_number)"
   ]
  },
  {
   "cell_type": "code",
   "execution_count": 14,
   "id": "472fc698",
   "metadata": {},
   "outputs": [],
   "source": [
    "#Preprocessing the data using standard scaler, which is used for the better model performance \n",
    "sc = StandardScaler()\n",
    "x_train = sc.fit_transform(x_train)\n",
    "x_test = sc.transform(x_test)"
   ]
  },
  {
   "cell_type": "code",
   "execution_count": 15,
   "id": "c1a5720a",
   "metadata": {},
   "outputs": [
    {
     "name": "stdout",
     "output_type": "stream",
     "text": [
      "Optimization terminated successfully.\n",
      "         Current function value: 0.521635\n",
      "         Iterations 6\n"
     ]
    }
   ],
   "source": [
    "#Fit a logistic Regression model\n",
    "fit = sm.Logit(y_train, sm.add_constant(x_train)).fit()"
   ]
  },
  {
   "cell_type": "code",
   "execution_count": 16,
   "id": "f7118d83",
   "metadata": {
    "scrolled": true
   },
   "outputs": [
    {
     "name": "stdout",
     "output_type": "stream",
     "text": [
      "                           Logit Regression Results                           \n",
      "==============================================================================\n",
      "Dep. Variable:                      y   No. Observations:                   70\n",
      "Model:                          Logit   Df Residuals:                       65\n",
      "Method:                           MLE   Df Model:                            4\n",
      "Date:                Sun, 31 Dec 2023   Pseudo R-squ.:                  0.1886\n",
      "Time:                        11:05:48   Log-Likelihood:                -36.514\n",
      "converged:                       True   LL-Null:                       -45.004\n",
      "Covariance Type:            nonrobust   LLR p-value:                  0.001951\n",
      "==============================================================================\n",
      "                 coef    std err          z      P>|z|      [0.025      0.975]\n",
      "------------------------------------------------------------------------------\n",
      "const         -0.8505      0.306     -2.784      0.005      -1.449      -0.252\n",
      "x1             0.6373      0.284      2.241      0.025       0.080       1.195\n",
      "x2             0.1510      0.396      0.382      0.703      -0.624       0.926\n",
      "x3             0.8050      0.473      1.701      0.089      -0.123       1.733\n",
      "x4            -0.8393      0.479     -1.752      0.080      -1.778       0.099\n",
      "==============================================================================\n"
     ]
    }
   ],
   "source": [
    "#Print the summary of the model\n",
    "print(fit.summary())"
   ]
  },
  {
   "cell_type": "code",
   "execution_count": 17,
   "id": "77b6a841",
   "metadata": {},
   "outputs": [],
   "source": [
    "#Only x1 is significant if aplha = 0.05"
   ]
  },
  {
   "cell_type": "code",
   "execution_count": 18,
   "id": "80b26866",
   "metadata": {},
   "outputs": [
    {
     "data": {
      "text/plain": [
       "array([0.42718283, 1.89136261, 1.16297338, 2.23675824, 0.43200253])"
      ]
     },
     "execution_count": 18,
     "metadata": {},
     "output_type": "execute_result"
    }
   ],
   "source": [
    "#stats model deos not produce the log odds\n",
    "#author can produce the log odds manually\n",
    "np.exp(fit.params)"
   ]
  },
  {
   "cell_type": "code",
   "execution_count": 19,
   "id": "2c1f75a2",
   "metadata": {},
   "outputs": [],
   "source": [
    "# Wald test"
   ]
  },
  {
   "cell_type": "code",
   "execution_count": 20,
   "id": "62fe3bc7",
   "metadata": {},
   "outputs": [],
   "source": [
    "#The Wald test is a statistical test used in logistic regression to examine the significance of individual coefficients (parameters) associated with predictor variables.\n",
    "#wald test to test the null hypothesis that the regression coeffcients for predictors"
   ]
  },
  {
   "cell_type": "code",
   "execution_count": 21,
   "id": "879305ab",
   "metadata": {},
   "outputs": [
    {
     "name": "stderr",
     "output_type": "stream",
     "text": [
      "C:\\Users\\415vi\\anaconda3\\Lib\\site-packages\\statsmodels\\base\\model.py:1889: FutureWarning: The behavior of wald_test will change after 0.14 to returning scalar test statistic values. To get the future behavior now, set scalar to True. To silence this message while retaining the legacy behavior, set scalar to False.\n",
      "  warnings.warn(\n"
     ]
    },
    {
     "data": {
      "text/plain": [
       "<class 'statsmodels.stats.contrast.ContrastResults'>\n",
       "<Wald test (chi2): statistic=[[12.20782807]], p-value=0.01587089849297628, df_denom=4>"
      ]
     },
     "execution_count": 21,
     "metadata": {},
     "output_type": "execute_result"
    }
   ],
   "source": [
    "fit.wald_test(\"(x1=0, x2=0, x3=0,x4=0)\")"
   ]
  },
  {
   "cell_type": "code",
   "execution_count": 22,
   "id": "578d6d85",
   "metadata": {},
   "outputs": [],
   "source": [
    "# evalute a model predictive ability"
   ]
  },
  {
   "cell_type": "code",
   "execution_count": 23,
   "id": "72ab8afd",
   "metadata": {},
   "outputs": [],
   "source": [
    "predicted_probab = fit.predict(sm.add_constant(x_test))\n",
    "y_pred = [1 if x>0.5 else 0 for x in predicted_probab]"
   ]
  },
  {
   "cell_type": "code",
   "execution_count": 24,
   "id": "1217e95e",
   "metadata": {},
   "outputs": [
    {
     "name": "stdout",
     "output_type": "stream",
     "text": [
      "[0, 1, 0, 0, 0, 0, 0, 0, 0, 1, 0, 0, 1, 0, 0, 0, 0, 0, 0, 1, 1, 0, 0, 0, 1, 1, 0, 0, 0, 0]\n"
     ]
    }
   ],
   "source": [
    "print(y_pred)"
   ]
  },
  {
   "cell_type": "code",
   "execution_count": 25,
   "id": "ed83f7d7",
   "metadata": {},
   "outputs": [
    {
     "name": "stdout",
     "output_type": "stream",
     "text": [
      "[0.29222505 0.61170703 0.15134164 0.2381881  0.25895539 0.42667693\n",
      " 0.39742197 0.47663595 0.47931629 0.92639355 0.37999515 0.4374947\n",
      " 0.88493059 0.10950649 0.11782524 0.35823186 0.06424333 0.42098657\n",
      " 0.45948051 0.68822999 0.71101028 0.48950813 0.28369903 0.14363243\n",
      " 0.62600314 0.58244009 0.39072352 0.13069174 0.29714622 0.15057443]\n"
     ]
    }
   ],
   "source": [
    "print(predicted_probab)"
   ]
  },
  {
   "cell_type": "code",
   "execution_count": 26,
   "id": "cd42f929",
   "metadata": {},
   "outputs": [
    {
     "data": {
      "image/png": "[encoded data removed]",
      "text/plain": [
       "<Figure size 640x480 with 2 Axes>"
      ]
     },
     "metadata": {},
     "output_type": "display_data"
    }
   ],
   "source": [
    "#Confusion Matrix\n",
    "Con_matrix = ConfusionMatrixDisplay(confusion_matrix(y_test, y_pred)).plot()"
   ]
  },
  {
   "cell_type": "code",
   "execution_count": 27,
   "id": "5d863aeb",
   "metadata": {},
   "outputs": [
    {
     "name": "stdout",
     "output_type": "stream",
     "text": [
      "              precision    recall  f1-score   support\n",
      "\n",
      "           0       0.74      0.89      0.81        19\n",
      "           1       0.71      0.45      0.56        11\n",
      "\n",
      "    accuracy                           0.73        30\n",
      "   macro avg       0.73      0.67      0.68        30\n",
      "weighted avg       0.73      0.73      0.72        30\n",
      "\n"
     ]
    }
   ],
   "source": [
    "#Print the summary of the classification report\n",
    "print(classification_report(y_test, y_pred))"
   ]
  },
  {
   "cell_type": "code",
   "execution_count": 28,
   "id": "276be2b8",
   "metadata": {},
   "outputs": [
    {
     "data": {
      "text/plain": [
       "0.6746411483253588"
      ]
     },
     "execution_count": 28,
     "metadata": {},
     "output_type": "execute_result"
    }
   ],
   "source": [
    "#balanced-accuracy_score\n",
    "balanced_accuracy_score(y_test, y_pred)"
   ]
  },
  {
   "cell_type": "code",
   "execution_count": 29,
   "id": "0e18f93a",
   "metadata": {},
   "outputs": [
    {
     "data": {
      "text/plain": [
       "0.7333333333333333"
      ]
     },
     "execution_count": 29,
     "metadata": {},
     "output_type": "execute_result"
    }
   ],
   "source": [
    "#Accuracy of the model\n",
    "accuracy_score(y_test, y_pred)"
   ]
  },
  {
   "cell_type": "code",
   "execution_count": null,
   "id": "913d78f4",
   "metadata": {},
   "outputs": [],
   "source": []
  }
 ],
 "metadata": {
  "kernelspec": {
   "display_name": "Python 3 (ipykernel)",
   "language": "python",
   "name": "python3"
  },
  "language_info": {
   "codemirror_mode": {
    "name": "ipython",
    "version": 3
   },
   "file_extension": ".py",
   "mimetype": "text/x-python",
   "name": "python",
   "nbconvert_exporter": "python",
   "pygments_lexer": "ipython3",
   "version": "3.11.3"
  }
 },
 "nbformat": 4,
 "nbformat_minor": 5
}
